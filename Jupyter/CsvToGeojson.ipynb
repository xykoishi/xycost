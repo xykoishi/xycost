{
 "cells": [
  {
   "cell_type": "code",
   "execution_count": 7,
   "metadata": {},
   "outputs": [],
   "source": [
    "from geojson import Point, Feature, FeatureCollection, dump\n",
    "import numpy as np\n",
    "import csv"
   ]
  },
  {
   "cell_type": "code",
   "execution_count": 9,
   "metadata": {},
   "outputs": [],
   "source": [
    "CsvFile = 'Mybills.csv'\n",
    "DictFile = 'Mybills.txt'   # 中间文件\n",
    "GeojsonFile = 'Mybills.geojson'"
   ]
  },
  {
   "cell_type": "code",
   "execution_count": 8,
   "metadata": {},
   "outputs": [],
   "source": [
    "# Generate the intermid file for checking\n",
    "fo_csv = open(CsvFile, 'r', encoding='utf-8')\n",
    "PointsData = csv.DictReader(fo_csv)\n",
    "\n",
    "with open(DictFile,'w') as fw_dict:\n",
    "    for row in PointsData:\n",
    "        #print(row)\n",
    "        fw_dict.write(str(row))\n",
    "        fw_dict.write(',\\n') \n",
    "fw_dict.close()\n",
    "\n",
    "# Generate the final Geojson file\n",
    "fo_csv = open(CsvFile, 'r', encoding='utf-8')   # 还要再写一次，否则下面的程序运行后输出为空，why？\n",
    "PointsData = csv.DictReader(fo_csv)\n",
    "\n",
    "ft_all = []\n",
    "for i, p in enumerate(PointsData):\n",
    "    lat, lon = p['纬度'], p['经度']\n",
    "    ft = Feature(geometry = Point((float(lon), float(lat),)),\n",
    "         properties = {'year': p['年'], 'month': p['月'], 'day': p['日'],\n",
    "                        'category': p['类别'], 'description': p['描述'], 'amount': p['金额'],\n",
    "                        #'marker-size': 'medium','marker-symbol': ''\n",
    "                        })\n",
    "    ft_all.append(ft)\n",
    "ft_colct = FeatureCollection(ft_all)\n",
    "\n",
    "with open(GeojsonFile, 'w') as fw_g:\n",
    "    dump(ft_colct, fw_g, indent=2)\n",
    "fw_g.close()\n",
    "fo_csv.close()"
   ]
  },
  {
   "cell_type": "code",
   "execution_count": null,
   "metadata": {},
   "outputs": [],
   "source": []
  },
  {
   "cell_type": "code",
   "execution_count": null,
   "metadata": {},
   "outputs": [],
   "source": []
  }
 ],
 "metadata": {
  "kernelspec": {
   "display_name": "Python 3",
   "language": "python",
   "name": "python3"
  },
  "language_info": {
   "codemirror_mode": {
    "name": "ipython",
    "version": 3
   },
   "file_extension": ".py",
   "mimetype": "text/x-python",
   "name": "python",
   "nbconvert_exporter": "python",
   "pygments_lexer": "ipython3",
   "version": "3.8.8"
  },
  "orig_nbformat": 4,
  "vscode": {
   "interpreter": {
    "hash": "aee8b7b246df8f9039afb4144a1f6fd8d2ca17a180786b69acc140d282b71a49"
   }
  }
 },
 "nbformat": 4,
 "nbformat_minor": 2
}
